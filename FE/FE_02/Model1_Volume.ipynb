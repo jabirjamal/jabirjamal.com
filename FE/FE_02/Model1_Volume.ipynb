{
 "cells": [
  {
   "cell_type": "markdown",
   "metadata": {},
   "source": [
    "## Step 1: Import relevant packages"
   ]
  },
  {
   "cell_type": "code",
   "execution_count": 1,
   "metadata": {},
   "outputs": [],
   "source": [
    "import pandas as pd\n",
    "import os\n",
    "import matplotlib.pyplot as plt"
   ]
  },
  {
   "cell_type": "markdown",
   "metadata": {},
   "source": [
    "## Step 2: Import the csv file into a dataframe using Pandas"
   ]
  },
  {
   "cell_type": "code",
   "execution_count": 2,
   "metadata": {},
   "outputs": [],
   "source": [
    "df = pd.read_csv(r'C:\\OneDrive\\JabirJamal.com\\Fire Engineering\\FE_01\\model1\\model1_devc.csv')"
   ]
  },
  {
   "cell_type": "code",
   "execution_count": 3,
   "metadata": {},
   "outputs": [
    {
     "data": {
      "text/html": [
       "<div>\n",
       "<style scoped>\n",
       "    .dataframe tbody tr th:only-of-type {\n",
       "        vertical-align: middle;\n",
       "    }\n",
       "\n",
       "    .dataframe tbody tr th {\n",
       "        vertical-align: top;\n",
       "    }\n",
       "\n",
       "    .dataframe thead th {\n",
       "        text-align: right;\n",
       "    }\n",
       "</style>\n",
       "<table border=\"1\" class=\"dataframe\">\n",
       "  <thead>\n",
       "    <tr style=\"text-align: right;\">\n",
       "      <th></th>\n",
       "      <th>s</th>\n",
       "      <th>m3/s</th>\n",
       "      <th>m3/s.1</th>\n",
       "    </tr>\n",
       "  </thead>\n",
       "  <tbody>\n",
       "    <tr>\n",
       "      <th>0</th>\n",
       "      <td>Time</td>\n",
       "      <td>E_01</td>\n",
       "      <td>E_02</td>\n",
       "    </tr>\n",
       "    <tr>\n",
       "      <th>1</th>\n",
       "      <td>0.0000000E+000</td>\n",
       "      <td>0.0000000E+000</td>\n",
       "      <td>0.0000000E+000</td>\n",
       "    </tr>\n",
       "    <tr>\n",
       "      <th>2</th>\n",
       "      <td>1.0016105E+000</td>\n",
       "      <td>-2.2244965E-003</td>\n",
       "      <td>-1.1122483E-003</td>\n",
       "    </tr>\n",
       "    <tr>\n",
       "      <th>3</th>\n",
       "      <td>2.0148392E+000</td>\n",
       "      <td>-1.2127648E-002</td>\n",
       "      <td>-6.0638240E-003</td>\n",
       "    </tr>\n",
       "    <tr>\n",
       "      <th>4</th>\n",
       "      <td>3.0184203E+000</td>\n",
       "      <td>-3.2411738E-002</td>\n",
       "      <td>-1.6205869E-002</td>\n",
       "    </tr>\n",
       "  </tbody>\n",
       "</table>\n",
       "</div>"
      ],
      "text/plain": [
       "                 s             m3/s           m3/s.1\n",
       "0             Time             E_01             E_02\n",
       "1   0.0000000E+000   0.0000000E+000   0.0000000E+000\n",
       "2   1.0016105E+000  -2.2244965E-003  -1.1122483E-003\n",
       "3   2.0148392E+000  -1.2127648E-002  -6.0638240E-003\n",
       "4   3.0184203E+000  -3.2411738E-002  -1.6205869E-002"
      ]
     },
     "execution_count": 3,
     "metadata": {},
     "output_type": "execute_result"
    }
   ],
   "source": [
    "df.head()"
   ]
  },
  {
   "cell_type": "markdown",
   "metadata": {},
   "source": [
    "## Step 3: Rename the column names and reset the dataframe by removing row 0"
   ]
  },
  {
   "cell_type": "code",
   "execution_count": 4,
   "metadata": {},
   "outputs": [
    {
     "data": {
      "text/html": [
       "<div>\n",
       "<style scoped>\n",
       "    .dataframe tbody tr th:only-of-type {\n",
       "        vertical-align: middle;\n",
       "    }\n",
       "\n",
       "    .dataframe tbody tr th {\n",
       "        vertical-align: top;\n",
       "    }\n",
       "\n",
       "    .dataframe thead th {\n",
       "        text-align: right;\n",
       "    }\n",
       "</style>\n",
       "<table border=\"1\" class=\"dataframe\">\n",
       "  <thead>\n",
       "    <tr style=\"text-align: right;\">\n",
       "      <th></th>\n",
       "      <th>Time</th>\n",
       "      <th>E_01</th>\n",
       "      <th>E_02</th>\n",
       "    </tr>\n",
       "  </thead>\n",
       "  <tbody>\n",
       "    <tr>\n",
       "      <th>0</th>\n",
       "      <td>0.0000000E+000</td>\n",
       "      <td>0.0000000E+000</td>\n",
       "      <td>0.0000000E+000</td>\n",
       "    </tr>\n",
       "    <tr>\n",
       "      <th>1</th>\n",
       "      <td>1.0016105E+000</td>\n",
       "      <td>-2.2244965E-003</td>\n",
       "      <td>-1.1122483E-003</td>\n",
       "    </tr>\n",
       "    <tr>\n",
       "      <th>2</th>\n",
       "      <td>2.0148392E+000</td>\n",
       "      <td>-1.2127648E-002</td>\n",
       "      <td>-6.0638240E-003</td>\n",
       "    </tr>\n",
       "    <tr>\n",
       "      <th>3</th>\n",
       "      <td>3.0184203E+000</td>\n",
       "      <td>-3.2411738E-002</td>\n",
       "      <td>-1.6205869E-002</td>\n",
       "    </tr>\n",
       "    <tr>\n",
       "      <th>4</th>\n",
       "      <td>4.0262761E+000</td>\n",
       "      <td>-6.2951635E-002</td>\n",
       "      <td>-3.1475818E-002</td>\n",
       "    </tr>\n",
       "  </tbody>\n",
       "</table>\n",
       "</div>"
      ],
      "text/plain": [
       "0             Time             E_01             E_02\n",
       "0   0.0000000E+000   0.0000000E+000   0.0000000E+000\n",
       "1   1.0016105E+000  -2.2244965E-003  -1.1122483E-003\n",
       "2   2.0148392E+000  -1.2127648E-002  -6.0638240E-003\n",
       "3   3.0184203E+000  -3.2411738E-002  -1.6205869E-002\n",
       "4   4.0262761E+000  -6.2951635E-002  -3.1475818E-002"
      ]
     },
     "execution_count": 4,
     "metadata": {},
     "output_type": "execute_result"
    }
   ],
   "source": [
    "# create a copy of the dataframe\n",
    "df1 = df.copy()\n",
    "\n",
    "# copy row 0 of df to header of df1\n",
    "df1.columns=df.iloc[0]\n",
    "\n",
    "# drop top row\n",
    "df1=df1[1:].reset_index(drop=True)\n",
    "df1.head()"
   ]
  },
  {
   "cell_type": "markdown",
   "metadata": {},
   "source": [
    "## Step 4: Convert datatype to float"
   ]
  },
  {
   "cell_type": "code",
   "execution_count": 5,
   "metadata": {},
   "outputs": [
    {
     "data": {
      "text/html": [
       "<div>\n",
       "<style scoped>\n",
       "    .dataframe tbody tr th:only-of-type {\n",
       "        vertical-align: middle;\n",
       "    }\n",
       "\n",
       "    .dataframe tbody tr th {\n",
       "        vertical-align: top;\n",
       "    }\n",
       "\n",
       "    .dataframe thead th {\n",
       "        text-align: right;\n",
       "    }\n",
       "</style>\n",
       "<table border=\"1\" class=\"dataframe\">\n",
       "  <thead>\n",
       "    <tr style=\"text-align: right;\">\n",
       "      <th></th>\n",
       "      <th>Time</th>\n",
       "      <th>E_01</th>\n",
       "      <th>E_02</th>\n",
       "    </tr>\n",
       "  </thead>\n",
       "  <tbody>\n",
       "    <tr>\n",
       "      <th>0</th>\n",
       "      <td>0.000000</td>\n",
       "      <td>0.000000</td>\n",
       "      <td>0.000000</td>\n",
       "    </tr>\n",
       "    <tr>\n",
       "      <th>1</th>\n",
       "      <td>1.001610</td>\n",
       "      <td>-0.002224</td>\n",
       "      <td>-0.001112</td>\n",
       "    </tr>\n",
       "    <tr>\n",
       "      <th>2</th>\n",
       "      <td>2.014839</td>\n",
       "      <td>-0.012128</td>\n",
       "      <td>-0.006064</td>\n",
       "    </tr>\n",
       "    <tr>\n",
       "      <th>3</th>\n",
       "      <td>3.018420</td>\n",
       "      <td>-0.032412</td>\n",
       "      <td>-0.016206</td>\n",
       "    </tr>\n",
       "    <tr>\n",
       "      <th>4</th>\n",
       "      <td>4.026276</td>\n",
       "      <td>-0.062952</td>\n",
       "      <td>-0.031476</td>\n",
       "    </tr>\n",
       "  </tbody>\n",
       "</table>\n",
       "</div>"
      ],
      "text/plain": [
       "0      Time      E_01      E_02\n",
       "0  0.000000  0.000000  0.000000\n",
       "1  1.001610 -0.002224 -0.001112\n",
       "2  2.014839 -0.012128 -0.006064\n",
       "3  3.018420 -0.032412 -0.016206\n",
       "4  4.026276 -0.062952 -0.031476"
      ]
     },
     "execution_count": 5,
     "metadata": {},
     "output_type": "execute_result"
    }
   ],
   "source": [
    "df2 = df1.astype(float)\n",
    "df2.head()"
   ]
  },
  {
   "cell_type": "markdown",
   "metadata": {},
   "source": [
    "## Step 5: Calculate total exhaust rate"
   ]
  },
  {
   "cell_type": "code",
   "execution_count": 6,
   "metadata": {},
   "outputs": [],
   "source": [
    "df2['E_01']=df2['E_01']*-1\n",
    "df2['E_02']=df2['E_02']*-1\n",
    "\n",
    "df2['Total']= df2['E_01'] + df2['E_02'] "
   ]
  },
  {
   "cell_type": "code",
   "execution_count": 7,
   "metadata": {},
   "outputs": [
    {
     "data": {
      "text/html": [
       "<div>\n",
       "<style scoped>\n",
       "    .dataframe tbody tr th:only-of-type {\n",
       "        vertical-align: middle;\n",
       "    }\n",
       "\n",
       "    .dataframe tbody tr th {\n",
       "        vertical-align: top;\n",
       "    }\n",
       "\n",
       "    .dataframe thead th {\n",
       "        text-align: right;\n",
       "    }\n",
       "</style>\n",
       "<table border=\"1\" class=\"dataframe\">\n",
       "  <thead>\n",
       "    <tr style=\"text-align: right;\">\n",
       "      <th></th>\n",
       "      <th>Time</th>\n",
       "      <th>E_01</th>\n",
       "      <th>E_02</th>\n",
       "      <th>Total</th>\n",
       "    </tr>\n",
       "  </thead>\n",
       "  <tbody>\n",
       "    <tr>\n",
       "      <th>0</th>\n",
       "      <td>0.000000</td>\n",
       "      <td>-0.000000</td>\n",
       "      <td>-0.000000</td>\n",
       "      <td>-0.000000</td>\n",
       "    </tr>\n",
       "    <tr>\n",
       "      <th>1</th>\n",
       "      <td>1.001610</td>\n",
       "      <td>0.002224</td>\n",
       "      <td>0.001112</td>\n",
       "      <td>0.003337</td>\n",
       "    </tr>\n",
       "    <tr>\n",
       "      <th>2</th>\n",
       "      <td>2.014839</td>\n",
       "      <td>0.012128</td>\n",
       "      <td>0.006064</td>\n",
       "      <td>0.018191</td>\n",
       "    </tr>\n",
       "    <tr>\n",
       "      <th>3</th>\n",
       "      <td>3.018420</td>\n",
       "      <td>0.032412</td>\n",
       "      <td>0.016206</td>\n",
       "      <td>0.048618</td>\n",
       "    </tr>\n",
       "    <tr>\n",
       "      <th>4</th>\n",
       "      <td>4.026276</td>\n",
       "      <td>0.062952</td>\n",
       "      <td>0.031476</td>\n",
       "      <td>0.094427</td>\n",
       "    </tr>\n",
       "  </tbody>\n",
       "</table>\n",
       "</div>"
      ],
      "text/plain": [
       "0      Time      E_01      E_02     Total\n",
       "0  0.000000 -0.000000 -0.000000 -0.000000\n",
       "1  1.001610  0.002224  0.001112  0.003337\n",
       "2  2.014839  0.012128  0.006064  0.018191\n",
       "3  3.018420  0.032412  0.016206  0.048618\n",
       "4  4.026276  0.062952  0.031476  0.094427"
      ]
     },
     "execution_count": 7,
     "metadata": {},
     "output_type": "execute_result"
    }
   ],
   "source": [
    "df2.head()"
   ]
  },
  {
   "cell_type": "markdown",
   "metadata": {},
   "source": [
    "## Step 6: Generate the graph using Pandas plot function and update the legends and axes with Matplotlib function. "
   ]
  },
  {
   "cell_type": "code",
   "execution_count": 8,
   "metadata": {},
   "outputs": [
    {
     "data": {
      "image/png": "[encoded data removed]",
      "text/plain": [
       "<Figure size 504x360 with 1 Axes>"
      ]
     },
     "metadata": {
      "needs_background": "light"
     },
     "output_type": "display_data"
    }
   ],
   "source": [
    "# change working directory to the location where you would like to save the image\n",
    "os.chdir(r'C:\\OneDrive\\JabirJamal.com\\Fire Engineering\\FE_01\\model1')\n",
    "\n",
    "# to create subplots\n",
    "fig,ax = plt.subplots()\n",
    "\n",
    "df2.plot(x='Time', y=['E_01','E_02','Total'], title = 'Model 1: Total Exhaust (m³/s)', figsize=(7,5), ax=ax) \n",
    "\n",
    "\n",
    "# label x and y axis\n",
    "plt.xlabel('Time (s)')\n",
    "plt.ylabel('Exhaust (m³/s)')\n",
    "\n",
    "\n",
    "# specify limits for x and y axis\n",
    "plt.xlim(0,100)\n",
    "plt.ylim(0,8)\n",
    "\n",
    "# generate legend\n",
    "ax.legend()\n",
    "\n",
    "# specify file name for the image and generate the graph\n",
    "plt.savefig('Model1_Volume_Flow.png', bbox_inches='tight')\n",
    "plt.show()"
   ]
  },
  {
   "cell_type": "code",
   "execution_count": null,
   "metadata": {},
   "outputs": [],
   "source": []
  },
  {
   "cell_type": "code",
   "execution_count": null,
   "metadata": {},
   "outputs": [],
   "source": []
  }
 ],
 "metadata": {
  "kernelspec": {
   "display_name": "Python 3",
   "language": "python",
   "name": "python3"
  },
  "language_info": {
   "codemirror_mode": {
    "name": "ipython",
    "version": 3
   },
   "file_extension": ".py",
   "mimetype": "text/x-python",
   "name": "python",
   "nbconvert_exporter": "python",
   "pygments_lexer": "ipython3",
   "version": "3.7.6"
  }
 },
 "nbformat": 4,
 "nbformat_minor": 4
}
