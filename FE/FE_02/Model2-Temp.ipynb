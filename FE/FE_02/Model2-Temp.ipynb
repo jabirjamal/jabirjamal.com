{
 "cells": [
  {
   "cell_type": "markdown",
   "metadata": {},
   "source": [
    "## Step 1: Import relevant packages"
   ]
  },
  {
   "cell_type": "code",
   "execution_count": 1,
   "metadata": {},
   "outputs": [],
   "source": [
    "import pandas as pd\n",
    "import os\n",
    "import matplotlib.pyplot as plt"
   ]
  },
  {
   "cell_type": "markdown",
   "metadata": {},
   "source": [
    "## Step 2: Import the csv file into a dataframe using Pandas"
   ]
  },
  {
   "cell_type": "code",
   "execution_count": 2,
   "metadata": {},
   "outputs": [],
   "source": [
    "df = pd.read_csv('model2_devc.csv')"
   ]
  },
  {
   "cell_type": "code",
   "execution_count": 3,
   "metadata": {},
   "outputs": [
    {
     "data": {
      "text/html": [
       "<div>\n",
       "<style scoped>\n",
       "    .dataframe tbody tr th:only-of-type {\n",
       "        vertical-align: middle;\n",
       "    }\n",
       "\n",
       "    .dataframe tbody tr th {\n",
       "        vertical-align: top;\n",
       "    }\n",
       "\n",
       "    .dataframe thead th {\n",
       "        text-align: right;\n",
       "    }\n",
       "</style>\n",
       "<table border=\"1\" class=\"dataframe\">\n",
       "  <thead>\n",
       "    <tr style=\"text-align: right;\">\n",
       "      <th></th>\n",
       "      <th>s</th>\n",
       "      <th>m3/s</th>\n",
       "      <th>m3/s.1</th>\n",
       "      <th>C</th>\n",
       "      <th>C.1</th>\n",
       "      <th>C.2</th>\n",
       "    </tr>\n",
       "  </thead>\n",
       "  <tbody>\n",
       "    <tr>\n",
       "      <th>0</th>\n",
       "      <td>Time</td>\n",
       "      <td>E_01</td>\n",
       "      <td>E_02</td>\n",
       "      <td>TMP_01</td>\n",
       "      <td>TMP_02</td>\n",
       "      <td>TMP_03</td>\n",
       "    </tr>\n",
       "    <tr>\n",
       "      <th>1</th>\n",
       "      <td>0.0000000E+000</td>\n",
       "      <td>0.0000000E+000</td>\n",
       "      <td>0.0000000E+000</td>\n",
       "      <td>2.0000000E+001</td>\n",
       "      <td>2.0000000E+001</td>\n",
       "      <td>2.0000000E+001</td>\n",
       "    </tr>\n",
       "    <tr>\n",
       "      <th>2</th>\n",
       "      <td>1.0016105E+000</td>\n",
       "      <td>-2.2244965E-003</td>\n",
       "      <td>-1.1122483E-003</td>\n",
       "      <td>2.0000900E+001</td>\n",
       "      <td>1.9999987E+001</td>\n",
       "      <td>2.0000040E+001</td>\n",
       "    </tr>\n",
       "    <tr>\n",
       "      <th>3</th>\n",
       "      <td>2.0148392E+000</td>\n",
       "      <td>-1.2127648E-002</td>\n",
       "      <td>-6.0638240E-003</td>\n",
       "      <td>2.0130957E+001</td>\n",
       "      <td>2.0006259E+001</td>\n",
       "      <td>2.0004541E+001</td>\n",
       "    </tr>\n",
       "    <tr>\n",
       "      <th>4</th>\n",
       "      <td>3.0184203E+000</td>\n",
       "      <td>-3.2411738E-002</td>\n",
       "      <td>-1.6205869E-002</td>\n",
       "      <td>1.6090870E+002</td>\n",
       "      <td>2.0034671E+001</td>\n",
       "      <td>2.0032868E+001</td>\n",
       "    </tr>\n",
       "  </tbody>\n",
       "</table>\n",
       "</div>"
      ],
      "text/plain": [
       "                 s             m3/s           m3/s.1                C  \\\n",
       "0             Time             E_01             E_02           TMP_01   \n",
       "1   0.0000000E+000   0.0000000E+000   0.0000000E+000   2.0000000E+001   \n",
       "2   1.0016105E+000  -2.2244965E-003  -1.1122483E-003   2.0000900E+001   \n",
       "3   2.0148392E+000  -1.2127648E-002  -6.0638240E-003   2.0130957E+001   \n",
       "4   3.0184203E+000  -3.2411738E-002  -1.6205869E-002   1.6090870E+002   \n",
       "\n",
       "               C.1              C.2  \n",
       "0           TMP_02           TMP_03  \n",
       "1   2.0000000E+001   2.0000000E+001  \n",
       "2   1.9999987E+001   2.0000040E+001  \n",
       "3   2.0006259E+001   2.0004541E+001  \n",
       "4   2.0034671E+001   2.0032868E+001  "
      ]
     },
     "execution_count": 3,
     "metadata": {},
     "output_type": "execute_result"
    }
   ],
   "source": [
    "df.head()"
   ]
  },
  {
   "cell_type": "markdown",
   "metadata": {},
   "source": [
    "## Step 3: Rename the column names and reset the dataframe by removing row 0"
   ]
  },
  {
   "cell_type": "code",
   "execution_count": 4,
   "metadata": {},
   "outputs": [
    {
     "data": {
      "text/html": [
       "<div>\n",
       "<style scoped>\n",
       "    .dataframe tbody tr th:only-of-type {\n",
       "        vertical-align: middle;\n",
       "    }\n",
       "\n",
       "    .dataframe tbody tr th {\n",
       "        vertical-align: top;\n",
       "    }\n",
       "\n",
       "    .dataframe thead th {\n",
       "        text-align: right;\n",
       "    }\n",
       "</style>\n",
       "<table border=\"1\" class=\"dataframe\">\n",
       "  <thead>\n",
       "    <tr style=\"text-align: right;\">\n",
       "      <th></th>\n",
       "      <th>Time</th>\n",
       "      <th>E_01</th>\n",
       "      <th>E_02</th>\n",
       "      <th>TMP_01</th>\n",
       "      <th>TMP_02</th>\n",
       "      <th>TMP_03</th>\n",
       "    </tr>\n",
       "  </thead>\n",
       "  <tbody>\n",
       "    <tr>\n",
       "      <th>0</th>\n",
       "      <td>0.0000000E+000</td>\n",
       "      <td>0.0000000E+000</td>\n",
       "      <td>0.0000000E+000</td>\n",
       "      <td>2.0000000E+001</td>\n",
       "      <td>2.0000000E+001</td>\n",
       "      <td>2.0000000E+001</td>\n",
       "    </tr>\n",
       "    <tr>\n",
       "      <th>1</th>\n",
       "      <td>1.0016105E+000</td>\n",
       "      <td>-2.2244965E-003</td>\n",
       "      <td>-1.1122483E-003</td>\n",
       "      <td>2.0000900E+001</td>\n",
       "      <td>1.9999987E+001</td>\n",
       "      <td>2.0000040E+001</td>\n",
       "    </tr>\n",
       "    <tr>\n",
       "      <th>2</th>\n",
       "      <td>2.0148392E+000</td>\n",
       "      <td>-1.2127648E-002</td>\n",
       "      <td>-6.0638240E-003</td>\n",
       "      <td>2.0130957E+001</td>\n",
       "      <td>2.0006259E+001</td>\n",
       "      <td>2.0004541E+001</td>\n",
       "    </tr>\n",
       "    <tr>\n",
       "      <th>3</th>\n",
       "      <td>3.0184203E+000</td>\n",
       "      <td>-3.2411738E-002</td>\n",
       "      <td>-1.6205869E-002</td>\n",
       "      <td>1.6090870E+002</td>\n",
       "      <td>2.0034671E+001</td>\n",
       "      <td>2.0032868E+001</td>\n",
       "    </tr>\n",
       "    <tr>\n",
       "      <th>4</th>\n",
       "      <td>4.0262761E+000</td>\n",
       "      <td>-6.2951635E-002</td>\n",
       "      <td>-3.1475818E-002</td>\n",
       "      <td>2.0843028E+002</td>\n",
       "      <td>2.0071975E+001</td>\n",
       "      <td>2.0071255E+001</td>\n",
       "    </tr>\n",
       "  </tbody>\n",
       "</table>\n",
       "</div>"
      ],
      "text/plain": [
       "0             Time             E_01             E_02           TMP_01  \\\n",
       "0   0.0000000E+000   0.0000000E+000   0.0000000E+000   2.0000000E+001   \n",
       "1   1.0016105E+000  -2.2244965E-003  -1.1122483E-003   2.0000900E+001   \n",
       "2   2.0148392E+000  -1.2127648E-002  -6.0638240E-003   2.0130957E+001   \n",
       "3   3.0184203E+000  -3.2411738E-002  -1.6205869E-002   1.6090870E+002   \n",
       "4   4.0262761E+000  -6.2951635E-002  -3.1475818E-002   2.0843028E+002   \n",
       "\n",
       "0           TMP_02           TMP_03  \n",
       "0   2.0000000E+001   2.0000000E+001  \n",
       "1   1.9999987E+001   2.0000040E+001  \n",
       "2   2.0006259E+001   2.0004541E+001  \n",
       "3   2.0034671E+001   2.0032868E+001  \n",
       "4   2.0071975E+001   2.0071255E+001  "
      ]
     },
     "execution_count": 4,
     "metadata": {},
     "output_type": "execute_result"
    }
   ],
   "source": [
    "# create a copy of the dataframe\n",
    "df1 = df.copy()\n",
    "\n",
    "# copy row 0 of df to header of df1\n",
    "df1.columns=df.iloc[0]\n",
    "\n",
    "# drop top row\n",
    "df1=df1[1:].reset_index(drop=True)\n",
    "df1.head()"
   ]
  },
  {
   "cell_type": "markdown",
   "metadata": {},
   "source": [
    "## Step 4: Convert datatype to float"
   ]
  },
  {
   "cell_type": "code",
   "execution_count": 5,
   "metadata": {},
   "outputs": [
    {
     "data": {
      "text/html": [
       "<div>\n",
       "<style scoped>\n",
       "    .dataframe tbody tr th:only-of-type {\n",
       "        vertical-align: middle;\n",
       "    }\n",
       "\n",
       "    .dataframe tbody tr th {\n",
       "        vertical-align: top;\n",
       "    }\n",
       "\n",
       "    .dataframe thead th {\n",
       "        text-align: right;\n",
       "    }\n",
       "</style>\n",
       "<table border=\"1\" class=\"dataframe\">\n",
       "  <thead>\n",
       "    <tr style=\"text-align: right;\">\n",
       "      <th></th>\n",
       "      <th>Time</th>\n",
       "      <th>E_01</th>\n",
       "      <th>E_02</th>\n",
       "      <th>TMP_01</th>\n",
       "      <th>TMP_02</th>\n",
       "      <th>TMP_03</th>\n",
       "    </tr>\n",
       "  </thead>\n",
       "  <tbody>\n",
       "    <tr>\n",
       "      <th>0</th>\n",
       "      <td>0.000000</td>\n",
       "      <td>0.000000</td>\n",
       "      <td>0.000000</td>\n",
       "      <td>20.000000</td>\n",
       "      <td>20.000000</td>\n",
       "      <td>20.000000</td>\n",
       "    </tr>\n",
       "    <tr>\n",
       "      <th>1</th>\n",
       "      <td>1.001610</td>\n",
       "      <td>-0.002224</td>\n",
       "      <td>-0.001112</td>\n",
       "      <td>20.000900</td>\n",
       "      <td>19.999987</td>\n",
       "      <td>20.000040</td>\n",
       "    </tr>\n",
       "    <tr>\n",
       "      <th>2</th>\n",
       "      <td>2.014839</td>\n",
       "      <td>-0.012128</td>\n",
       "      <td>-0.006064</td>\n",
       "      <td>20.130957</td>\n",
       "      <td>20.006259</td>\n",
       "      <td>20.004541</td>\n",
       "    </tr>\n",
       "    <tr>\n",
       "      <th>3</th>\n",
       "      <td>3.018420</td>\n",
       "      <td>-0.032412</td>\n",
       "      <td>-0.016206</td>\n",
       "      <td>160.908700</td>\n",
       "      <td>20.034671</td>\n",
       "      <td>20.032868</td>\n",
       "    </tr>\n",
       "    <tr>\n",
       "      <th>4</th>\n",
       "      <td>4.026276</td>\n",
       "      <td>-0.062952</td>\n",
       "      <td>-0.031476</td>\n",
       "      <td>208.430280</td>\n",
       "      <td>20.071975</td>\n",
       "      <td>20.071255</td>\n",
       "    </tr>\n",
       "  </tbody>\n",
       "</table>\n",
       "</div>"
      ],
      "text/plain": [
       "0      Time      E_01      E_02      TMP_01     TMP_02     TMP_03\n",
       "0  0.000000  0.000000  0.000000   20.000000  20.000000  20.000000\n",
       "1  1.001610 -0.002224 -0.001112   20.000900  19.999987  20.000040\n",
       "2  2.014839 -0.012128 -0.006064   20.130957  20.006259  20.004541\n",
       "3  3.018420 -0.032412 -0.016206  160.908700  20.034671  20.032868\n",
       "4  4.026276 -0.062952 -0.031476  208.430280  20.071975  20.071255"
      ]
     },
     "execution_count": 5,
     "metadata": {},
     "output_type": "execute_result"
    }
   ],
   "source": [
    "df2 = df1.astype(float)\n",
    "df2.head()"
   ]
  },
  {
   "cell_type": "markdown",
   "metadata": {},
   "source": [
    "## Step 5: Filter Only Temperature Devices To Create a New DataFrame"
   ]
  },
  {
   "cell_type": "markdown",
   "metadata": {},
   "source": [
    "#### Method 1"
   ]
  },
  {
   "cell_type": "markdown",
   "metadata": {},
   "source": [
    "##### This method is useful when there are a lot of devices in the columns"
   ]
  },
  {
   "cell_type": "code",
   "execution_count": 6,
   "metadata": {},
   "outputs": [
    {
     "data": {
      "text/plain": [
       "Index(['Time', 'E_01', 'E_02', 'TMP_01', 'TMP_02', 'TMP_03'], dtype='object', name=0)"
      ]
     },
     "execution_count": 6,
     "metadata": {},
     "output_type": "execute_result"
    }
   ],
   "source": [
    "# extract column names to a variable\n",
    "columns = df2.columns\n",
    "columns"
   ]
  },
  {
   "cell_type": "code",
   "execution_count": 7,
   "metadata": {},
   "outputs": [
    {
     "data": {
      "text/plain": [
       "['TMP_01', 'TMP_02', 'TMP_03']"
      ]
     },
     "execution_count": 7,
     "metadata": {},
     "output_type": "execute_result"
    }
   ],
   "source": [
    "# filtering using device name starting with 'TMP'\n",
    "temp_columns = []\n",
    "for x in columns:\n",
    "    if x.startswith('TMP'):\n",
    "        temp_columns.append(x)\n",
    "temp_columns"
   ]
  },
  {
   "cell_type": "code",
   "execution_count": 8,
   "metadata": {},
   "outputs": [],
   "source": [
    "#generate a dataframe using only the filetered data\n",
    "df3 = df2[temp_columns]"
   ]
  },
  {
   "cell_type": "code",
   "execution_count": 9,
   "metadata": {},
   "outputs": [
    {
     "data": {
      "text/html": [
       "<div>\n",
       "<style scoped>\n",
       "    .dataframe tbody tr th:only-of-type {\n",
       "        vertical-align: middle;\n",
       "    }\n",
       "\n",
       "    .dataframe tbody tr th {\n",
       "        vertical-align: top;\n",
       "    }\n",
       "\n",
       "    .dataframe thead th {\n",
       "        text-align: right;\n",
       "    }\n",
       "</style>\n",
       "<table border=\"1\" class=\"dataframe\">\n",
       "  <thead>\n",
       "    <tr style=\"text-align: right;\">\n",
       "      <th></th>\n",
       "      <th>TMP_01</th>\n",
       "      <th>TMP_02</th>\n",
       "      <th>TMP_03</th>\n",
       "    </tr>\n",
       "  </thead>\n",
       "  <tbody>\n",
       "    <tr>\n",
       "      <th>0</th>\n",
       "      <td>20.000000</td>\n",
       "      <td>20.000000</td>\n",
       "      <td>20.000000</td>\n",
       "    </tr>\n",
       "    <tr>\n",
       "      <th>1</th>\n",
       "      <td>20.000900</td>\n",
       "      <td>19.999987</td>\n",
       "      <td>20.000040</td>\n",
       "    </tr>\n",
       "    <tr>\n",
       "      <th>2</th>\n",
       "      <td>20.130957</td>\n",
       "      <td>20.006259</td>\n",
       "      <td>20.004541</td>\n",
       "    </tr>\n",
       "    <tr>\n",
       "      <th>3</th>\n",
       "      <td>160.908700</td>\n",
       "      <td>20.034671</td>\n",
       "      <td>20.032868</td>\n",
       "    </tr>\n",
       "    <tr>\n",
       "      <th>4</th>\n",
       "      <td>208.430280</td>\n",
       "      <td>20.071975</td>\n",
       "      <td>20.071255</td>\n",
       "    </tr>\n",
       "  </tbody>\n",
       "</table>\n",
       "</div>"
      ],
      "text/plain": [
       "0      TMP_01     TMP_02     TMP_03\n",
       "0   20.000000  20.000000  20.000000\n",
       "1   20.000900  19.999987  20.000040\n",
       "2   20.130957  20.006259  20.004541\n",
       "3  160.908700  20.034671  20.032868\n",
       "4  208.430280  20.071975  20.071255"
      ]
     },
     "execution_count": 9,
     "metadata": {},
     "output_type": "execute_result"
    }
   ],
   "source": [
    "df3.head()"
   ]
  },
  {
   "cell_type": "code",
   "execution_count": 10,
   "metadata": {},
   "outputs": [
    {
     "data": {
      "text/html": [
       "<div>\n",
       "<style scoped>\n",
       "    .dataframe tbody tr th:only-of-type {\n",
       "        vertical-align: middle;\n",
       "    }\n",
       "\n",
       "    .dataframe tbody tr th {\n",
       "        vertical-align: top;\n",
       "    }\n",
       "\n",
       "    .dataframe thead th {\n",
       "        text-align: right;\n",
       "    }\n",
       "</style>\n",
       "<table border=\"1\" class=\"dataframe\">\n",
       "  <thead>\n",
       "    <tr style=\"text-align: right;\">\n",
       "      <th></th>\n",
       "      <th>Time</th>\n",
       "    </tr>\n",
       "  </thead>\n",
       "  <tbody>\n",
       "    <tr>\n",
       "      <th>0</th>\n",
       "      <td>0.000000</td>\n",
       "    </tr>\n",
       "    <tr>\n",
       "      <th>1</th>\n",
       "      <td>1.001610</td>\n",
       "    </tr>\n",
       "    <tr>\n",
       "      <th>2</th>\n",
       "      <td>2.014839</td>\n",
       "    </tr>\n",
       "    <tr>\n",
       "      <th>3</th>\n",
       "      <td>3.018420</td>\n",
       "    </tr>\n",
       "    <tr>\n",
       "      <th>4</th>\n",
       "      <td>4.026276</td>\n",
       "    </tr>\n",
       "  </tbody>\n",
       "</table>\n",
       "</div>"
      ],
      "text/plain": [
       "0      Time\n",
       "0  0.000000\n",
       "1  1.001610\n",
       "2  2.014839\n",
       "3  3.018420\n",
       "4  4.026276"
      ]
     },
     "execution_count": 10,
     "metadata": {},
     "output_type": "execute_result"
    }
   ],
   "source": [
    "# create a dataframe with only time column data \n",
    "df4 = df2[['Time']]\n",
    "df4.head()"
   ]
  },
  {
   "cell_type": "code",
   "execution_count": 11,
   "metadata": {},
   "outputs": [],
   "source": [
    "# concatitate two dataframes \n",
    "df5 = pd.concat([df3, df4], axis=1)"
   ]
  },
  {
   "cell_type": "code",
   "execution_count": 12,
   "metadata": {},
   "outputs": [
    {
     "data": {
      "text/html": [
       "<div>\n",
       "<style scoped>\n",
       "    .dataframe tbody tr th:only-of-type {\n",
       "        vertical-align: middle;\n",
       "    }\n",
       "\n",
       "    .dataframe tbody tr th {\n",
       "        vertical-align: top;\n",
       "    }\n",
       "\n",
       "    .dataframe thead th {\n",
       "        text-align: right;\n",
       "    }\n",
       "</style>\n",
       "<table border=\"1\" class=\"dataframe\">\n",
       "  <thead>\n",
       "    <tr style=\"text-align: right;\">\n",
       "      <th></th>\n",
       "      <th>TMP_01</th>\n",
       "      <th>TMP_02</th>\n",
       "      <th>TMP_03</th>\n",
       "      <th>Time</th>\n",
       "    </tr>\n",
       "  </thead>\n",
       "  <tbody>\n",
       "    <tr>\n",
       "      <th>0</th>\n",
       "      <td>20.000000</td>\n",
       "      <td>20.000000</td>\n",
       "      <td>20.000000</td>\n",
       "      <td>0.000000</td>\n",
       "    </tr>\n",
       "    <tr>\n",
       "      <th>1</th>\n",
       "      <td>20.000900</td>\n",
       "      <td>19.999987</td>\n",
       "      <td>20.000040</td>\n",
       "      <td>1.001610</td>\n",
       "    </tr>\n",
       "    <tr>\n",
       "      <th>2</th>\n",
       "      <td>20.130957</td>\n",
       "      <td>20.006259</td>\n",
       "      <td>20.004541</td>\n",
       "      <td>2.014839</td>\n",
       "    </tr>\n",
       "    <tr>\n",
       "      <th>3</th>\n",
       "      <td>160.908700</td>\n",
       "      <td>20.034671</td>\n",
       "      <td>20.032868</td>\n",
       "      <td>3.018420</td>\n",
       "    </tr>\n",
       "    <tr>\n",
       "      <th>4</th>\n",
       "      <td>208.430280</td>\n",
       "      <td>20.071975</td>\n",
       "      <td>20.071255</td>\n",
       "      <td>4.026276</td>\n",
       "    </tr>\n",
       "    <tr>\n",
       "      <th>...</th>\n",
       "      <td>...</td>\n",
       "      <td>...</td>\n",
       "      <td>...</td>\n",
       "      <td>...</td>\n",
       "    </tr>\n",
       "    <tr>\n",
       "      <th>96</th>\n",
       "      <td>35.824112</td>\n",
       "      <td>34.696411</td>\n",
       "      <td>43.253300</td>\n",
       "      <td>96.002833</td>\n",
       "    </tr>\n",
       "    <tr>\n",
       "      <th>97</th>\n",
       "      <td>32.346107</td>\n",
       "      <td>34.975488</td>\n",
       "      <td>57.450528</td>\n",
       "      <td>97.013442</td>\n",
       "    </tr>\n",
       "    <tr>\n",
       "      <th>98</th>\n",
       "      <td>43.318237</td>\n",
       "      <td>32.605075</td>\n",
       "      <td>59.236638</td>\n",
       "      <td>98.009817</td>\n",
       "    </tr>\n",
       "    <tr>\n",
       "      <th>99</th>\n",
       "      <td>29.963408</td>\n",
       "      <td>30.416270</td>\n",
       "      <td>48.867147</td>\n",
       "      <td>99.006192</td>\n",
       "    </tr>\n",
       "    <tr>\n",
       "      <th>100</th>\n",
       "      <td>35.183548</td>\n",
       "      <td>28.871366</td>\n",
       "      <td>37.273519</td>\n",
       "      <td>100.000000</td>\n",
       "    </tr>\n",
       "  </tbody>\n",
       "</table>\n",
       "<p>101 rows × 4 columns</p>\n",
       "</div>"
      ],
      "text/plain": [
       "0        TMP_01     TMP_02     TMP_03        Time\n",
       "0     20.000000  20.000000  20.000000    0.000000\n",
       "1     20.000900  19.999987  20.000040    1.001610\n",
       "2     20.130957  20.006259  20.004541    2.014839\n",
       "3    160.908700  20.034671  20.032868    3.018420\n",
       "4    208.430280  20.071975  20.071255    4.026276\n",
       "..          ...        ...        ...         ...\n",
       "96    35.824112  34.696411  43.253300   96.002833\n",
       "97    32.346107  34.975488  57.450528   97.013442\n",
       "98    43.318237  32.605075  59.236638   98.009817\n",
       "99    29.963408  30.416270  48.867147   99.006192\n",
       "100   35.183548  28.871366  37.273519  100.000000\n",
       "\n",
       "[101 rows x 4 columns]"
      ]
     },
     "execution_count": 12,
     "metadata": {},
     "output_type": "execute_result"
    }
   ],
   "source": [
    "df5"
   ]
  },
  {
   "cell_type": "markdown",
   "metadata": {},
   "source": [
    "#### Method 2"
   ]
  },
  {
   "cell_type": "markdown",
   "metadata": {},
   "source": [
    "##### This method is useful when there are only a few devices"
   ]
  },
  {
   "cell_type": "code",
   "execution_count": 13,
   "metadata": {},
   "outputs": [],
   "source": [
    "# manually create a new dataframe with relevant info required from df2\n",
    "df6 = df2[['Time','TMP_01','TMP_02','TMP_03']]"
   ]
  },
  {
   "cell_type": "code",
   "execution_count": 14,
   "metadata": {},
   "outputs": [
    {
     "data": {
      "text/html": [
       "<div>\n",
       "<style scoped>\n",
       "    .dataframe tbody tr th:only-of-type {\n",
       "        vertical-align: middle;\n",
       "    }\n",
       "\n",
       "    .dataframe tbody tr th {\n",
       "        vertical-align: top;\n",
       "    }\n",
       "\n",
       "    .dataframe thead th {\n",
       "        text-align: right;\n",
       "    }\n",
       "</style>\n",
       "<table border=\"1\" class=\"dataframe\">\n",
       "  <thead>\n",
       "    <tr style=\"text-align: right;\">\n",
       "      <th></th>\n",
       "      <th>Time</th>\n",
       "      <th>TMP_01</th>\n",
       "      <th>TMP_02</th>\n",
       "      <th>TMP_03</th>\n",
       "    </tr>\n",
       "  </thead>\n",
       "  <tbody>\n",
       "    <tr>\n",
       "      <th>0</th>\n",
       "      <td>0.000000</td>\n",
       "      <td>20.000000</td>\n",
       "      <td>20.000000</td>\n",
       "      <td>20.000000</td>\n",
       "    </tr>\n",
       "    <tr>\n",
       "      <th>1</th>\n",
       "      <td>1.001610</td>\n",
       "      <td>20.000900</td>\n",
       "      <td>19.999987</td>\n",
       "      <td>20.000040</td>\n",
       "    </tr>\n",
       "    <tr>\n",
       "      <th>2</th>\n",
       "      <td>2.014839</td>\n",
       "      <td>20.130957</td>\n",
       "      <td>20.006259</td>\n",
       "      <td>20.004541</td>\n",
       "    </tr>\n",
       "    <tr>\n",
       "      <th>3</th>\n",
       "      <td>3.018420</td>\n",
       "      <td>160.908700</td>\n",
       "      <td>20.034671</td>\n",
       "      <td>20.032868</td>\n",
       "    </tr>\n",
       "    <tr>\n",
       "      <th>4</th>\n",
       "      <td>4.026276</td>\n",
       "      <td>208.430280</td>\n",
       "      <td>20.071975</td>\n",
       "      <td>20.071255</td>\n",
       "    </tr>\n",
       "    <tr>\n",
       "      <th>...</th>\n",
       "      <td>...</td>\n",
       "      <td>...</td>\n",
       "      <td>...</td>\n",
       "      <td>...</td>\n",
       "    </tr>\n",
       "    <tr>\n",
       "      <th>96</th>\n",
       "      <td>96.002833</td>\n",
       "      <td>35.824112</td>\n",
       "      <td>34.696411</td>\n",
       "      <td>43.253300</td>\n",
       "    </tr>\n",
       "    <tr>\n",
       "      <th>97</th>\n",
       "      <td>97.013442</td>\n",
       "      <td>32.346107</td>\n",
       "      <td>34.975488</td>\n",
       "      <td>57.450528</td>\n",
       "    </tr>\n",
       "    <tr>\n",
       "      <th>98</th>\n",
       "      <td>98.009817</td>\n",
       "      <td>43.318237</td>\n",
       "      <td>32.605075</td>\n",
       "      <td>59.236638</td>\n",
       "    </tr>\n",
       "    <tr>\n",
       "      <th>99</th>\n",
       "      <td>99.006192</td>\n",
       "      <td>29.963408</td>\n",
       "      <td>30.416270</td>\n",
       "      <td>48.867147</td>\n",
       "    </tr>\n",
       "    <tr>\n",
       "      <th>100</th>\n",
       "      <td>100.000000</td>\n",
       "      <td>35.183548</td>\n",
       "      <td>28.871366</td>\n",
       "      <td>37.273519</td>\n",
       "    </tr>\n",
       "  </tbody>\n",
       "</table>\n",
       "<p>101 rows × 4 columns</p>\n",
       "</div>"
      ],
      "text/plain": [
       "0          Time      TMP_01     TMP_02     TMP_03\n",
       "0      0.000000   20.000000  20.000000  20.000000\n",
       "1      1.001610   20.000900  19.999987  20.000040\n",
       "2      2.014839   20.130957  20.006259  20.004541\n",
       "3      3.018420  160.908700  20.034671  20.032868\n",
       "4      4.026276  208.430280  20.071975  20.071255\n",
       "..          ...         ...        ...        ...\n",
       "96    96.002833   35.824112  34.696411  43.253300\n",
       "97    97.013442   32.346107  34.975488  57.450528\n",
       "98    98.009817   43.318237  32.605075  59.236638\n",
       "99    99.006192   29.963408  30.416270  48.867147\n",
       "100  100.000000   35.183548  28.871366  37.273519\n",
       "\n",
       "[101 rows x 4 columns]"
      ]
     },
     "execution_count": 14,
     "metadata": {},
     "output_type": "execute_result"
    }
   ],
   "source": [
    "df6"
   ]
  },
  {
   "cell_type": "markdown",
   "metadata": {},
   "source": [
    "## Step 6: Generate the graph using Pandas plot function and update the legends and axes with Matplotlib function. "
   ]
  },
  {
   "cell_type": "code",
   "execution_count": 15,
   "metadata": {},
   "outputs": [
    {
     "data": {
      "image/png": "[encoded data removed]",
      "text/plain": [
       "<Figure size 504x360 with 1 Axes>"
      ]
     },
     "metadata": {
      "needs_background": "light"
     },
     "output_type": "display_data"
    }
   ],
   "source": [
   
    "fig, ax = plt.subplots()\n",
    "\n",
    "df6.plot(x='Time', y=['TMP_01','TMP_02','TMP_03'], title = 'Model 2: Temperature Graph (°C)', figsize=(7,5), ax=ax) \n",
    "\n",
    "\n",
    "# label x and y axis\n",
    "plt.xlabel('Time (s)')\n",
    "plt.ylabel('Temperature (°C)')\n",
    "\n",
    "\n",
    "# specify limits for x and y axis\n",
    "plt.xlim(0,100)\n",
    "plt.ylim(0,300)\n",
    "\n",
    "ax.legend()\n",
    "\n",
    "\n",
    "# specify file name for the image and generate the graph\n",
    "plt.savefig('Model2_Temp.png', bbox_inches='tight')\n",
    "plt.show()"
   ]
  },
  {
   "cell_type": "code",
   "execution_count": null,
   "metadata": {},
   "outputs": [],
   "source": []
  },
  {
   "cell_type": "code",
   "execution_count": null,
   "metadata": {},
   "outputs": [],
   "source": []
  }
 ],
 "metadata": {
  "kernelspec": {
   "display_name": "Python 3",
   "language": "python",
   "name": "python3"
  },
  "language_info": {
   "codemirror_mode": {
    "name": "ipython",
    "version": 3
   },
   "file_extension": ".py",
   "mimetype": "text/x-python",
   "name": "python",
   "nbconvert_exporter": "python",
   "pygments_lexer": "ipython3",
   "version": "3.7.6"
  }
 },
 "nbformat": 4,
 "nbformat_minor": 4
}
