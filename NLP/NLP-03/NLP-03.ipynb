{
 "cells": [
  {
   "cell_type": "code",
   "execution_count": 1,
   "id": "8e9da5ed",
   "metadata": {},
   "outputs": [],
   "source": [
    "import spacy\n",
    "nlp = spacy.load('en_core_web_md')"
   ]
  },
  {
   "cell_type": "code",
   "execution_count": 2,
   "id": "4ea33875",
   "metadata": {},
   "outputs": [],
   "source": [
    "doc = nlp('I joined WSP 2.5 years ago as a graduate engineer.')"
   ]
  },
  {
   "cell_type": "code",
   "execution_count": 3,
   "id": "b1279f7e",
   "metadata": {},
   "outputs": [
    {
     "name": "stdout",
     "output_type": "stream",
     "text": [
      "I I\n",
      "joined join\n",
      "WSP WSP\n",
      "2.5 2.5\n",
      "years year\n",
      "ago ago\n",
      "as as\n",
      "a a\n",
      "graduate graduate\n",
      "engineer engineer\n",
      ". .\n"
     ]
    }
   ],
   "source": [
    "for token in doc:\n",
    "    print(token.text, token.lemma_)"
   ]
  },
  {
   "cell_type": "code",
   "execution_count": 4,
   "id": "7049cfe3",
   "metadata": {},
   "outputs": [],
   "source": [
    "doc = nlp('List me all flights to Sydney. I need to fly to Brisbane. \\\n",
    "        I flew to Melbourne yesterday evening and forgot my baggage.')"
   ]
  },
  {
   "cell_type": "code",
   "execution_count": 5,
   "id": "2cb2e50b",
   "metadata": {},
   "outputs": [
    {
     "name": "stdout",
     "output_type": "stream",
     "text": [
      "List list\n",
      "me I\n",
      "all all\n",
      "flights flight\n",
      "to to\n",
      "Sydney Sydney\n",
      ". .\n",
      "I I\n",
      "need need\n",
      "to to\n",
      "fly fly\n",
      "to to\n",
      "Brisbane Brisbane\n",
      ". .\n",
      "                 \n",
      "I I\n",
      "flew fly\n",
      "to to\n",
      "Melbourne Melbourne\n",
      "yesterday yesterday\n",
      "evening evening\n",
      "and and\n",
      "forgot forget\n",
      "my my\n",
      "baggage baggage\n",
      ". .\n"
     ]
    }
   ],
   "source": [
    "for token in doc:\n",
    "    print(token.text, token.lemma_)"
   ]
  },
  {
   "cell_type": "markdown",
   "id": "1520bb27",
   "metadata": {},
   "source": [
    "#### Customizing Lemmatization"
   ]
  },
  {
   "cell_type": "code",
   "execution_count": 10,
   "id": "185576ea",
   "metadata": {},
   "outputs": [],
   "source": [
    "nlp.get_pipe('attribute_ruler').add([[{\"TEXT\":\"Angeltown\"}]],{\"LEMMA\":\"San Fransisco\"})"
   ]
  },
  {
   "cell_type": "code",
   "execution_count": 11,
   "id": "cb830b45",
   "metadata": {},
   "outputs": [
    {
     "name": "stdout",
     "output_type": "stream",
     "text": [
      "I I\n",
      "am be\n",
      "flying fly\n",
      "to to\n",
      "Angeltown San Fransisco\n"
     ]
    }
   ],
   "source": [
    "doc = nlp(u'I am flying to Angeltown')\n",
    "for token in doc:\n",
    "    print(token.text, token.lemma_)"
   ]
  },
  {
   "cell_type": "code",
   "execution_count": null,
   "id": "fa63aea3",
   "metadata": {},
   "outputs": [],
   "source": []
  },
  {
   "cell_type": "code",
   "execution_count": null,
   "id": "aa451bb0",
   "metadata": {},
   "outputs": [],
   "source": []
  }
 ],
 "metadata": {
  "kernelspec": {
   "display_name": "Python 3",
   "language": "python",
   "name": "python3"
  },
  "language_info": {
   "codemirror_mode": {
    "name": "ipython",
    "version": 3
   },
   "file_extension": ".py",
   "mimetype": "text/x-python",
   "name": "python",
   "nbconvert_exporter": "python",
   "pygments_lexer": "ipython3",
   "version": "3.8.10"
  }
 },
 "nbformat": 4,
 "nbformat_minor": 5
}
