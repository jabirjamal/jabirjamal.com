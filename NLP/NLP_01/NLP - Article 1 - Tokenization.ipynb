{
 "cells": [
  {
   "cell_type": "markdown",
   "id": "actual-haiti",
   "metadata": {},
   "source": [
    "## 1. Tokenization using NLTK"
   ]
  },
  {
   "cell_type": "code",
   "execution_count": 1,
   "id": "scientific-start",
   "metadata": {},
   "outputs": [],
   "source": [
    "import nltk\n",
    "import numpy as np"
   ]
  },
  {
   "cell_type": "code",
   "execution_count": 2,
   "id": "headed-desert",
   "metadata": {},
   "outputs": [],
   "source": [
    "text_1 = \"\"\"Societal goals are difficult to determine, but need to be reflected in the code, since \n",
    "they are the reason regulations for buildings and facilities exist. Society expects a \n",
    "certain performance from buildings and facilities, and demands local codes and their \n",
    "enforcement to provide that protection. Such goals need to match what policy makers \n",
    "expect. These goals will vary among communities because of specific needs and \n",
    "concerns, such as the preservation of an historic part of a community, or perhaps a \n",
    "business that employs a majority of the town’s work force. The model codes have \n",
    "been relied on by policy makers to reflect these goals, but the model codes have \n",
    "focused on protecting life and property of individual buildings to minimize life loss and \n",
    "property protection to “acceptable levels.” Desired goals are not always achieved by \n",
    "the adoption of model codes. Variations in community social objectives are reflected \n",
    "by local amendments. In the performance-based code, objectives, functional \n",
    "statements and performance requirements are general in nature and use terms such \n",
    "as “reasonable,” “adequate” or “acceptable.”  In the current prescriptive code, there is \n",
    "only one value deemed “reasonable;” thus, communities must amend the code to \n",
    "reflect their local needs. Justifying amendments is often difficult in a prescriptive code \n",
    "environment since there is a single solution versus understanding outcomes tolerated \n",
    "by society in events such as earthquakes. Much of the structural provisions in the \n",
    "prescriptive building code are somewhat performance-oriented and easily \n",
    "accommodate a variety of design approaches and unique building features. In the \n",
    "performance code, an environment is being created where “reasonable” is qualified \n",
    "by what level of damage is tolerable to a community, based on the type of events \n",
    "expected, and use and importance of the building impacted. It is hoped this code will \n",
    "create a framework policy makers can use to clearly reflect what society expects in \n",
    "the built environment.   \"\"\"\n",
    "\n",
    "# removing line breaks\n",
    "text_1 = text_1.replace('\\n',\"\")"
   ]
  },
  {
   "cell_type": "markdown",
   "id": "artificial-expert",
   "metadata": {},
   "source": [
    "#### 1.1 Default Sentence Tokenizer"
   ]
  },
  {
   "cell_type": "code",
   "execution_count": 3,
   "id": "speaking-terminal",
   "metadata": {},
   "outputs": [
    {
     "data": {
      "text/plain": [
       "['Societal goals are difficult to determine, but need to be reflected in the code, since they are the reason regulations for buildings and facilities exist.',\n",
       " 'Society expects a certain performance from buildings and facilities, and demands local codes and their enforcement to provide that protection.',\n",
       " 'Such goals need to match what policy makers expect.',\n",
       " 'These goals will vary among communities because of specific needs and concerns, such as the preservation of an historic part of a community, or perhaps a business that employs a majority of the town’s work force.',\n",
       " 'The model codes have been relied on by policy makers to reflect these goals, but the model codes have focused on protecting life and property of individual buildings to minimize life loss and property protection to “acceptable levels.” Desired goals are not always achieved by the adoption of model codes.',\n",
       " 'Variations in community social objectives are reflected by local amendments.',\n",
       " 'In the performance-based code, objectives, functional statements and performance requirements are general in nature and use terms such as “reasonable,” “adequate” or “acceptable.”  In the current prescriptive code, there is only one value deemed “reasonable;” thus, communities must amend the code to reflect their local needs.',\n",
       " 'Justifying amendments is often difficult in a prescriptive code environment since there is a single solution versus understanding outcomes tolerated by society in events such as earthquakes.',\n",
       " 'Much of the structural provisions in the prescriptive building code are somewhat performance-oriented and easily accommodate a variety of design approaches and unique building features.',\n",
       " 'In the performance code, an environment is being created where “reasonable” is qualified by what level of damage is tolerable to a community, based on the type of events expected, and use and importance of the building impacted.',\n",
       " 'It is hoped this code will create a framework policy makers can use to clearly reflect what society expects in the built environment.']"
      ]
     },
     "execution_count": 3,
     "metadata": {},
     "output_type": "execute_result"
    }
   ],
   "source": [
    "# default sentence tokenizer \n",
    "default_st = nltk.sent_tokenize\n",
    "text_1_sentences = default_st(text_1)\n",
    "text_1_sentences"
   ]
  },
  {
   "cell_type": "markdown",
   "id": "aging-modification",
   "metadata": {},
   "source": [
    "#### 1.2 Default Word Tokenizer"
   ]
  },
  {
   "cell_type": "code",
   "execution_count": 4,
   "id": "liquid-stranger",
   "metadata": {},
   "outputs": [
    {
     "data": {
      "text/plain": [
       "'Performance requirements are detailed statements that break down the functional statements into measurable terms. This is where the link is made to acceptable methods such as the International Building Code.'"
      ]
     },
     "execution_count": 4,
     "metadata": {},
     "output_type": "execute_result"
    }
   ],
   "source": [
    "text_2 = \"\"\"Performance requirements are detailed statements \n",
    "that break down the functional statements into measurable terms. This is where the \n",
    "link is made to acceptable methods such as the International Building Code. \n",
    "\"\"\"\n",
    "# removing line breaks\n",
    "text_2 = text_2.replace('\\n',\"\").strip()\n",
    "text_2"
   ]
  },
  {
   "cell_type": "code",
   "execution_count": 5,
   "id": "private-jacob",
   "metadata": {},
   "outputs": [
    {
     "data": {
      "text/plain": [
       "array(['Performance', 'requirements', 'are', 'detailed', 'statements',\n",
       "       'that', 'break', 'down', 'the', 'functional', 'statements', 'into',\n",
       "       'measurable', 'terms', '.', 'This', 'is', 'where', 'the', 'link',\n",
       "       'is', 'made', 'to', 'acceptable', 'methods', 'such', 'as', 'the',\n",
       "       'International', 'Building', 'Code', '.'], dtype='<U13')"
      ]
     },
     "execution_count": 5,
     "metadata": {},
     "output_type": "execute_result"
    }
   ],
   "source": [
    "# default work tokenizer \n",
    "default_wt = nltk.word_tokenize\n",
    "words = default_wt(text_2)\n",
    "np.array(words)"
   ]
  },
  {
   "cell_type": "markdown",
   "id": "understood-shock",
   "metadata": {},
   "source": [
    "#### 1.3 TreebankWordTokenizer"
   ]
  },
  {
   "cell_type": "code",
   "execution_count": 6,
   "id": "skilled-stage",
   "metadata": {},
   "outputs": [
    {
     "data": {
      "text/plain": [
       "array(['Performance', 'requirements', 'are', 'detailed', 'statements',\n",
       "       'that', 'break', 'down', 'the', 'functional', 'statements', 'into',\n",
       "       'measurable', 'terms.', 'This', 'is', 'where', 'the', 'link', 'is',\n",
       "       'made', 'to', 'acceptable', 'methods', 'such', 'as', 'the',\n",
       "       'International', 'Building', 'Code', '.'], dtype='<U13')"
      ]
     },
     "execution_count": 6,
     "metadata": {},
     "output_type": "execute_result"
    }
   ],
   "source": [
    "treebank_wt = nltk.TreebankWordTokenizer()\n",
    "words = treebank_wt.tokenize(text_2)\n",
    "np.array(words)"
   ]
  },
  {
   "cell_type": "markdown",
   "id": "raising-array",
   "metadata": {},
   "source": [
    "#### 1.4 TokTokTokenizer"
   ]
  },
  {
   "cell_type": "code",
   "execution_count": 7,
   "id": "afraid-battery",
   "metadata": {},
   "outputs": [
    {
     "data": {
      "text/plain": [
       "array(['Performance', 'requirements', 'are', 'detailed', 'statements',\n",
       "       'that', 'break', 'down', 'the', 'functional', 'statements', 'into',\n",
       "       'measurable', 'terms.', 'This', 'is', 'where', 'the', 'link', 'is',\n",
       "       'made', 'to', 'acceptable', 'methods', 'such', 'as', 'the',\n",
       "       'International', 'Building', 'Code', '.'], dtype='<U13')"
      ]
     },
     "execution_count": 7,
     "metadata": {},
     "output_type": "execute_result"
    }
   ],
   "source": [
    "from nltk.tokenize import ToktokTokenizer\n",
    "tokenizer = ToktokTokenizer()\n",
    "words = tokenizer.tokenize(text_2)\n",
    "np.array(words)"
   ]
  },
  {
   "cell_type": "markdown",
   "id": "fantastic-dublin",
   "metadata": {},
   "source": [
    "## 2. Tokenizer Function using NLTK"
   ]
  },
  {
   "cell_type": "code",
   "execution_count": 8,
   "id": "handed-eleven",
   "metadata": {},
   "outputs": [],
   "source": [
    "def tokenize_text_nltk_1(text):\n",
    "    sentences = nltk.sent_tokenize(text)\n",
    "    word_tokens = []\n",
    "    for sentence in sentences:\n",
    "        word_tokens.append(nltk.word_tokenize(sentence))\n",
    "    return word_tokens"
   ]
  },
  {
   "cell_type": "code",
   "execution_count": 9,
   "id": "committed-biodiversity",
   "metadata": {},
   "outputs": [
    {
     "data": {
      "text/plain": [
       "array([list(['Performance', 'requirements', 'are', 'detailed', 'statements', 'that', 'break', 'down', 'the', 'functional', 'statements', 'into', 'measurable', 'terms', '.']),\n",
       "       list(['This', 'is', 'where', 'the', 'link', 'is', 'made', 'to', 'acceptable', 'methods', 'such', 'as', 'the', 'International', 'Building', 'Code', '.'])],\n",
       "      dtype=object)"
      ]
     },
     "execution_count": 9,
     "metadata": {},
     "output_type": "execute_result"
    }
   ],
   "source": [
    "np.array(tokenize_text_nltk_1(text_2), dtype = object)"
   ]
  },
  {
   "cell_type": "code",
   "execution_count": 10,
   "id": "changed-worth",
   "metadata": {},
   "outputs": [],
   "source": [
    "# List comprehension\n",
    "default_wt = nltk.word_tokenize\n",
    "default_st = nltk.sent_tokenize\n",
    "\n",
    "def tokenize_text_nltk_2(text):\n",
    "    sentences = default_st(text)\n",
    "    word_tokens = [default_wt(sentence) for sentence in sentences]\n",
    "    return word_tokens"
   ]
  },
  {
   "cell_type": "code",
   "execution_count": 11,
   "id": "ranging-section",
   "metadata": {},
   "outputs": [
    {
     "data": {
      "text/plain": [
       "array([list(['Performance', 'requirements', 'are', 'detailed', 'statements', 'that', 'break', 'down', 'the', 'functional', 'statements', 'into', 'measurable', 'terms', '.']),\n",
       "       list(['This', 'is', 'where', 'the', 'link', 'is', 'made', 'to', 'acceptable', 'methods', 'such', 'as', 'the', 'International', 'Building', 'Code', '.'])],\n",
       "      dtype=object)"
      ]
     },
     "execution_count": 11,
     "metadata": {},
     "output_type": "execute_result"
    }
   ],
   "source": [
    "sents = tokenize_text_nltk_2(text_2)\n",
    "np.array(sents, dtype= object)"
   ]
  },
  {
   "cell_type": "markdown",
   "id": "exceptional-skating",
   "metadata": {},
   "source": [
    "## 3. Tokenizater Function using Spacy"
   ]
  },
  {
   "cell_type": "code",
   "execution_count": 12,
   "id": "shared-purchase",
   "metadata": {},
   "outputs": [],
   "source": [
    "import spacy\n",
    "nlp = spacy.load('en_core_web_sm')"
   ]
  },
  {
   "cell_type": "markdown",
   "id": "statewide-aquarium",
   "metadata": {},
   "source": [
    "#### Sentence Tokenization"
   ]
  },
  {
   "cell_type": "code",
   "execution_count": 13,
   "id": "universal-globe",
   "metadata": {},
   "outputs": [],
   "source": [
    "text_spacy = nlp(text_2)"
   ]
  },
  {
   "cell_type": "code",
   "execution_count": 14,
   "id": "under-sympathy",
   "metadata": {},
   "outputs": [
    {
     "data": {
      "text/plain": [
       "[Performance requirements are detailed statements that break down the functional statements into measurable terms.,\n",
       " This is where the link is made to acceptable methods such as the International Building Code.]"
      ]
     },
     "execution_count": 14,
     "metadata": {},
     "output_type": "execute_result"
    }
   ],
   "source": [
    "sents = list(text_spacy.sents)\n",
    "sents"
   ]
  },
  {
   "cell_type": "markdown",
   "id": "surprised-clark",
   "metadata": {},
   "source": [
    "#### Word Tokenization"
   ]
  },
  {
   "cell_type": "code",
   "execution_count": 15,
   "id": "together-power",
   "metadata": {},
   "outputs": [
    {
     "data": {
      "text/plain": [
       "array([list(['Performance', 'requirements', 'are', 'detailed', 'statements', 'that', 'break', 'down', 'the', 'functional', 'statements', 'into', 'measurable', 'terms', '.']),\n",
       "       list(['This', 'is', 'where', 'the', 'link', 'is', 'made', 'to', 'acceptable', 'methods', 'such', 'as', 'the', 'International', 'Building', 'Code', '.'])],\n",
       "      dtype=object)"
      ]
     },
     "execution_count": 15,
     "metadata": {},
     "output_type": "execute_result"
    }
   ],
   "source": [
    "sent_words = [[word.text for word in sent] for sent in sents]\n",
    "np.array(sent_words, dtype=object)"
   ]
  },
  {
   "cell_type": "code",
   "execution_count": 16,
   "id": "incident-founder",
   "metadata": {},
   "outputs": [
    {
     "name": "stdout",
     "output_type": "stream",
     "text": [
      "['Performance', 'requirements', 'are', 'detailed', 'statements', 'that', 'break', 'down', 'the', 'functional', 'statements', 'into', 'measurable', 'terms', '.']\n",
      "['This', 'is', 'where', 'the', 'link', 'is', 'made', 'to', 'acceptable', 'methods', 'such', 'as', 'the', 'International', 'Building', 'Code', '.']\n"
     ]
    }
   ],
   "source": [
    "for sent in sents:\n",
    "    sent_words = []\n",
    "    for word in sent:\n",
    "        sent_words.append(word.text)\n",
    "    print(sent_words)"
   ]
  },
  {
   "cell_type": "markdown",
   "id": "lesbian-restriction",
   "metadata": {},
   "source": [
    "#### Function"
   ]
  },
  {
   "cell_type": "code",
   "execution_count": 17,
   "id": "organized-meditation",
   "metadata": {},
   "outputs": [],
   "source": [
    "def tokenize_text_spacy_1(text):\n",
    "    text_spacy = nlp(text)\n",
    "    sents = np.array(list(text_spacy.sents),dtype = object)\n",
    "    sent_words = np.array([[word.text for word in sent] for sent in sents], dtype = object)\n",
    "    return sent_words"
   ]
  },
  {
   "cell_type": "code",
   "execution_count": 18,
   "id": "manual-turner",
   "metadata": {},
   "outputs": [
    {
     "data": {
      "text/plain": [
       "array([list(['Performance', 'requirements', 'are', 'detailed', 'statements', 'that', 'break', 'down', 'the', 'functional', 'statements', 'into', 'measurable', 'terms', '.']),\n",
       "       list(['This', 'is', 'where', 'the', 'link', 'is', 'made', 'to', 'acceptable', 'methods', 'such', 'as', 'the', 'International', 'Building', 'Code', '.'])],\n",
       "      dtype=object)"
      ]
     },
     "execution_count": 18,
     "metadata": {},
     "output_type": "execute_result"
    }
   ],
   "source": [
    "tokenize_text_spacy_1(text_2)"
   ]
  },
  {
   "cell_type": "code",
   "execution_count": 19,
   "id": "gothic-bench",
   "metadata": {},
   "outputs": [],
   "source": [
    "# list comprehension 1\n",
    "def tokenize_text_spacy_2(text):\n",
    "    text_spacy = nlp(text)\n",
    "    sents = list(text_spacy.sents)\n",
    "    sent_words = []\n",
    "    for sent in sents:        \n",
    "        sent_words.append([word.text for word in sent])\n",
    "    return np.array(sent_words, dtype = object)"
   ]
  },
  {
   "cell_type": "code",
   "execution_count": 20,
   "id": "deadly-chosen",
   "metadata": {},
   "outputs": [
    {
     "data": {
      "text/plain": [
       "array([list(['Performance', 'requirements', 'are', 'detailed', 'statements', 'that', 'break', 'down', 'the', 'functional', 'statements', 'into', 'measurable', 'terms', '.']),\n",
       "       list(['This', 'is', 'where', 'the', 'link', 'is', 'made', 'to', 'acceptable', 'methods', 'such', 'as', 'the', 'International', 'Building', 'Code', '.'])],\n",
       "      dtype=object)"
      ]
     },
     "execution_count": 20,
     "metadata": {},
     "output_type": "execute_result"
    }
   ],
   "source": [
    "tokenize_text_spacy_2(text_2)"
   ]
  },
  {
   "cell_type": "code",
   "execution_count": 21,
   "id": "higher-issue",
   "metadata": {},
   "outputs": [],
   "source": [
    "# list comprehension 2\n",
    "def tokenize_text_spacy_3(text):\n",
    "    text_spacy = nlp(text)\n",
    "    sents = list(text_spacy.sents)\n",
    "    \n",
    "    sent_words_1=[]\n",
    "    for sent in sents:\n",
    "        sent_words_2 = []\n",
    "        for word in sent:\n",
    "            sent_words_2.append(word.text)\n",
    "        sent_words_1.append(sent_words_2)\n",
    "    return np.array(sent_words_1, dtype = object)"
   ]
  },
  {
   "cell_type": "code",
   "execution_count": 22,
   "id": "fatal-logging",
   "metadata": {},
   "outputs": [
    {
     "data": {
      "text/plain": [
       "array([list(['Performance', 'requirements', 'are', 'detailed', 'statements', 'that', 'break', 'down', 'the', 'functional', 'statements', 'into', 'measurable', 'terms', '.']),\n",
       "       list(['This', 'is', 'where', 'the', 'link', 'is', 'made', 'to', 'acceptable', 'methods', 'such', 'as', 'the', 'International', 'Building', 'Code', '.'])],\n",
       "      dtype=object)"
      ]
     },
     "execution_count": 22,
     "metadata": {},
     "output_type": "execute_result"
    }
   ],
   "source": [
    "tokenize_text_spacy_3(text_2)"
   ]
  },
  {
   "cell_type": "code",
   "execution_count": null,
   "id": "juvenile-domain",
   "metadata": {},
   "outputs": [],
   "source": []
  }
 ],
 "metadata": {
  "kernelspec": {
   "display_name": "Python 3",
   "language": "python",
   "name": "python3"
  },
  "language_info": {
   "codemirror_mode": {
    "name": "ipython",
    "version": 3
   },
   "file_extension": ".py",
   "mimetype": "text/x-python",
   "name": "python",
   "nbconvert_exporter": "python",
   "pygments_lexer": "ipython3",
   "version": "3.7.9"
  }
 },
 "nbformat": 4,
 "nbformat_minor": 5
}
