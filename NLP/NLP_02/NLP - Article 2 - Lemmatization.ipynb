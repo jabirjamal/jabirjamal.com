{
 "cells": [
  {
   "cell_type": "markdown",
   "id": "polar-recruitment",
   "metadata": {},
   "source": [
    "### Word Lemmatization"
   ]
  },
  {
   "cell_type": "code",
   "execution_count": 1,
   "id": "convinced-costume",
   "metadata": {},
   "outputs": [],
   "source": [
    "from nltk.tokenize import sent_tokenize, word_tokenize\n",
    "from nltk.stem import WordNetLemmatizer"
   ]
  },
  {
   "cell_type": "code",
   "execution_count": 2,
   "id": "needed-ticket",
   "metadata": {},
   "outputs": [
    {
     "data": {
      "text/plain": [
       "('walk', 'walk', 'walk')"
      ]
     },
     "execution_count": 2,
     "metadata": {},
     "output_type": "execute_result"
    }
   ],
   "source": [
    "wnl = WordNetLemmatizer()\n",
    "wnl.lemmatize('walking','v'), wnl.lemmatize('walked','v'), wnl.lemmatize('walks','v')"
   ]
  },
  {
   "cell_type": "markdown",
   "id": "operational-christmas",
   "metadata": {},
   "source": [
    "### Sentence Lemmatization"
   ]
  },
  {
   "cell_type": "code",
   "execution_count": 3,
   "id": "impaired-payroll",
   "metadata": {},
   "outputs": [],
   "source": [
    "sentence = \"\"\"These Guidelines have been developed for use in the fire engineering design and approval of buildings.  \"\"\"\n",
    "def sentenceLemmatizer(sentence):\n",
    "    word_tokens = word_tokenize(sentence)\n",
    "    # print(word_tokens)\n",
    "    lemma_sentence = []\n",
    "    for word in word_tokens:\n",
    "        lemma_sentence.append(wnl.lemmatize(word, 'v'))\n",
    "        lemma_sentence.append(\" \")\n",
    "    return \"\".join(lemma_sentence)\n",
    "lemma_sentence = sentenceLemmatizer(sentence)"
   ]
  },
  {
   "cell_type": "code",
   "execution_count": 4,
   "id": "bridal-million",
   "metadata": {},
   "outputs": [
    {
     "data": {
      "text/plain": [
       "'These Guidelines have be develop for use in the fire engineer design and approval of build . '"
      ]
     },
     "execution_count": 4,
     "metadata": {},
     "output_type": "execute_result"
    }
   ],
   "source": [
    "lemma_sentence"
   ]
  },
  {
   "cell_type": "markdown",
   "id": "animal-liechtenstein",
   "metadata": {},
   "source": [
    "## Lemmatization using spaCy"
   ]
  },
  {
   "cell_type": "code",
   "execution_count": null,
   "id": "metropolitan-insertion",
   "metadata": {},
   "outputs": [],
   "source": []
  },
  {
   "cell_type": "code",
   "execution_count": null,
   "id": "sunset-facial",
   "metadata": {},
   "outputs": [],
   "source": []
  },
  {
   "cell_type": "code",
   "execution_count": null,
   "id": "australian-error",
   "metadata": {},
   "outputs": [],
   "source": []
  }
 ],
 "metadata": {
  "kernelspec": {
   "display_name": "Python 3",
   "language": "python",
   "name": "python3"
  },
  "language_info": {
   "codemirror_mode": {
    "name": "ipython",
    "version": 3
   },
   "file_extension": ".py",
   "mimetype": "text/x-python",
   "name": "python",
   "nbconvert_exporter": "python",
   "pygments_lexer": "ipython3",
   "version": "3.7.9"
  }
 },
 "nbformat": 4,
 "nbformat_minor": 5
}
