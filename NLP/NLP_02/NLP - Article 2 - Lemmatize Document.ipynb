{
 "cells": [
  {
   "cell_type": "markdown",
   "id": "mechanical-fellow",
   "metadata": {},
   "source": [
    "## Import relevant packages"
   ]
  },
  {
   "cell_type": "code",
   "execution_count": 1,
   "id": "incident-porcelain",
   "metadata": {},
   "outputs": [],
   "source": [
    "from nltk.tokenize import sent_tokenize, word_tokenize\n",
    "from nltk.stem import WordNetLemmatizer\n",
    "import spacy\n",
    "nlp = spacy.load('en_core_web_lg')\n",
    "import nltk\n",
    "import numpy as np\n",
    "import os"
   ]
  },
  {
   "cell_type": "markdown",
   "id": "adequate-flight",
   "metadata": {},
   "source": [
    "### text to analyse"
   ]
  },
  {
   "cell_type": "code",
   "execution_count": 2,
   "id": "above-disabled",
   "metadata": {},
   "outputs": [],
   "source": [
    "text = \"\"\"The tools and information available to the fire engineer on the fire performance of \n",
    "dangerous goods and hazardous materials is limited. Therefore fire engineers generally \n",
    "do not have the specialised knowledge and competencies to practise in this area. For \n",
    "these situations applicable State and Territory legislation (including State appendices to \n",
    "the BCA) for the storage and handling of hazardous and dangerous goods and \n",
    "appropriate specialist practitioners should be consulted. \"\"\"\n",
    "text = text.replace('\\n',\"\")"
   ]
  },
  {
   "cell_type": "markdown",
   "id": "impaired-auditor",
   "metadata": {},
   "source": [
    "## tokenization function"
   ]
  },
  {
   "cell_type": "code",
   "execution_count": 3,
   "id": "streaming-morris",
   "metadata": {},
   "outputs": [],
   "source": [
    "def tokenize_text(text):\n",
    "    sentences = sent_tokenize(text)\n",
    "    word_tokens = []\n",
    "    for sentence in sentences:\n",
    "        word_tokens.append(word_tokenize(sentence))\n",
    "    return word_tokens"
   ]
  },
  {
   "cell_type": "markdown",
   "id": "confused-marina",
   "metadata": {},
   "source": [
    "## Lemmatization function"
   ]
  },
  {
   "cell_type": "code",
   "execution_count": 4,
   "id": "variable-pocket",
   "metadata": {},
   "outputs": [],
   "source": [
    "def lemmatize_function(text):\n",
    "    words = nlp(text)\n",
    "    lemma_words = []\n",
    "    for word in words:\n",
    "        if word.lemma_ != '-PRON-':\n",
    "            lemma_words.append(word.lemma_)\n",
    "            \n",
    "        else:\n",
    "            lemma_words.append(word.text)\n",
    "    lemma_words = ' '.join(lemma_words)\n",
    "    return lemma_words"
   ]
  },
  {
   "cell_type": "code",
   "execution_count": 5,
   "id": "considerable-worst",
   "metadata": {},
   "outputs": [
    {
     "data": {
      "text/plain": [
       "'the tool and information available to the fire engineer on the fire performance of dangerous good and hazardous material be limited .therefore fire engineer generally do not have the specialised knowledge and competency to practise in this area .for these situation applicable state and territory legislation ( include state appendix to the BCA ) for the storage and handle of hazardous and dangerous good and appropriate specialist practitioner should be consult .'"
      ]
     },
     "execution_count": 5,
     "metadata": {},
     "output_type": "execute_result"
    }
   ],
   "source": [
    "tokenized_words = tokenize_text(text)\n",
    "\n",
    "lemma_sent = []\n",
    "for sentence_list in tokenized_words:\n",
    "    lemma_word = []\n",
    "    for word in sentence_list:\n",
    "        lemma_word.append(lemmatize_function(word))\n",
    "    sent = ' '.join(lemma_word)\n",
    "    lemma_sent.append(sent)\n",
    "lemma_sent = ''.join(lemma_sent)\n",
    "lemma_sent"
   ]
  },
  {
   "cell_type": "markdown",
   "id": "pharmaceutical-publication",
   "metadata": {},
   "source": [
    "## Lemmatize a document"
   ]
  },
  {
   "cell_type": "code",
   "execution_count": 6,
   "id": "soviet-vietnamese",
   "metadata": {},
   "outputs": [],
   "source": [
    "os.chdir(r'C:\\Users\\AUJV501965\\OneDrive\\JabirJamal.com\\NLP\\NLP_02_Lemmatization')\n",
    "file = open('document.txt')\n",
    "lines = file.readlines()\n",
    "updated_lines=[]\n",
    "for line in lines:\n",
    "    line = line.replace('\\n',\"\")\n",
    "    updated_lines.append(line)\n",
    "updated_lines = ''.join(updated_lines)"
   ]
  },
  {
   "cell_type": "code",
   "execution_count": 7,
   "id": "alone-scheme",
   "metadata": {},
   "outputs": [],
   "source": [
    "def tokenize_text(text):\n",
    "    sentences = sent_tokenize(text)\n",
    "    word_tokens = []\n",
    "    for sentence in sentences:\n",
    "        word_tokens.append(word_tokenize(sentence))\n",
    "    return word_tokens\n",
    "\n",
    "tokenized_words = tokenize_text(updated_lines)"
   ]
  },
  {
   "cell_type": "code",
   "execution_count": 8,
   "id": "congressional-tennessee",
   "metadata": {},
   "outputs": [],
   "source": [
    "def lemmatize_function(text):\n",
    "    words = nlp(text)\n",
    "    lemma_words = []\n",
    "    for word in words:\n",
    "        if word.lemma_ != '-PRON-':\n",
    "            lemma_words.append(word.lemma_)\n",
    "            \n",
    "        else:\n",
    "            lemma_words.append(word.text)\n",
    "    lemma_words = ' '.join(lemma_words)\n",
    "    return lemma_words"
   ]
  },
  {
   "cell_type": "code",
   "execution_count": 9,
   "id": "twelve-perry",
   "metadata": {},
   "outputs": [
    {
     "data": {
      "text/plain": [
       "'part I of the document contain four chapter . these chapter be those which common approach be find for both build and fire code related topic . chapter 1 include administrative provision such as intent , scope and requirement related to qualification , documentation , review , maintenance and change of use or occupancy . this section could be use as a framework for jurisdiction even when the ICCPC be not adopt . provision for approve acceptable method be also provide in chapter 1 . chapter 2 provide definition specific to this ICCPC . chapter 3 , entitle \" design performance level , \" provide the framework for determine the appropriate performance desire from a build or facility , base on a particular event such as wind , earthquake or fire . specifically , the user of the code may easily determine the expect performance level of a build during an earthquake . in the current prescriptive code , the require performance be simply prescribe without a method to determine or quantify the level of the build or facility \\' s performance . in other word , all the requirement such as height and area , sprinkler and structural specification be indirectly attempt to address the hazard building be subject to and the loss society be able to tolerate . since these issue be deal with indirectly , it be difficult to measure the level of safety provide . therefore , when apply the alternate material and method approach for the prescriptive code , it be difficult to determine what be mean by \" equivalent . \" . the designer frequently end up try to determine what be consider to be equivalent . the problem with the designer determine the intended performance level be that such decision be not technical in nature . such decision be value judgment , which should ultimately be make by policy maker . this chapter can serve as the link between the policy maker and the designer by provide measurable guidance as to desire performance . finally , chapter 4 address topic of reliability and durability and how these issue interact with the overall performance of a build or facility over the life of the build or facility . this be an issue that have always be relevant to code and standard but become more obvious when a performance code require a designer to consider building as a system . also , there be often a concern that when performance design be implement , necessary redundancy may be remove . for example , great dependence may be place on the use of a single active fire protection system rather than rely on a combination of passive compartmentation and active fire protection system . it be hope that a specific focus on the issue of reliability and durability within the code document will help to address this concern in the future . reliability include redundancy , maintenance , durability , quality of installation , integrity of the design and , generally , the qualification of those involve with this process . part ii and III – building and fire part ii and iii provide topic - specific qualitative statement of intent that relate to current prescriptive code requirement . as note , part ii and iii be build and fire component , respectively . the reason the build and fire component be not fully integrated be due to the concern relate to how such a document might be use . for instance , a fire department may want to use the document for exist building or facility , but would not be able to adopt chapter deal with issue such as structural stability or moisture . therefore , the code be design so a fire department could adopt only part I and iii . when part ii be adopt the entire document should be adopt , part iii should always be include in the adoption of the performance code . the topic - specific qualitative statement be the basic element miss from the prescriptive code . the statement , find in part ii and iii , follow a hierarchy , as describe below .'"
      ]
     },
     "execution_count": 9,
     "metadata": {},
     "output_type": "execute_result"
    }
   ],
   "source": [
    "lemma_sent = []\n",
    "for sentence_list in tokenized_words:\n",
    "    lemma_word = []\n",
    "    for word in sentence_list:\n",
    "        lemma_word.append(lemmatize_function(word))\n",
    "    sent = ' '.join(lemma_word)\n",
    "    lemma_sent.append(sent)\n",
    "lemma_sent = ' '.join(lemma_sent)\n",
    "lemma_sent"
   ]
  },
  {
   "cell_type": "code",
   "execution_count": 10,
   "id": "detailed-saskatchewan",
   "metadata": {},
   "outputs": [],
   "source": [
    "lemma_file = open('lemma_document.txt', mode=\"w+\", encoding = 'utf-8')\n",
    "lemma_file.write(lemma_sent)\n",
    "lemma_file.close()"
   ]
  },
  {
   "cell_type": "code",
   "execution_count": null,
   "id": "adjacent-graph",
   "metadata": {},
   "outputs": [],
   "source": []
  }
 ],
 "metadata": {
  "kernelspec": {
   "display_name": "Python 3",
   "language": "python",
   "name": "python3"
  },
  "language_info": {
   "codemirror_mode": {
    "name": "ipython",
    "version": 3
   },
   "file_extension": ".py",
   "mimetype": "text/x-python",
   "name": "python",
   "nbconvert_exporter": "python",
   "pygments_lexer": "ipython3",
   "version": "3.7.9"
  }
 },
 "nbformat": 4,
 "nbformat_minor": 5
}
